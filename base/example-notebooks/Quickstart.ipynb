{
 "cells": [
  {
   "cell_type": "markdown",
   "metadata": {},
   "source": [
    "# Quickstart to Kubeflow\n",
    "\n",
    "For how to interact with the Kubeflow dashboard and creating notebook servers please see https://www.kubeflow.org/docs/notebooks/setup/.\n"
   ]
  },
  {
   "cell_type": "markdown",
   "metadata": {},
   "source": [
    "## Storage and Disks\n",
    "\n",
    "Your home directory is under /home/jovyan. Aim to use it for code and scripts as its size is limited.\n"
   ]
  },
  {
   "cell_type": "code",
   "execution_count": 1,
   "metadata": {
    "ExecuteTime": {
     "end_time": "2020-04-06T15:34:42.821079Z",
     "start_time": "2020-04-06T15:34:42.644636Z"
    }
   },
   "outputs": [
    {
     "name": "stdout",
     "output_type": "stream",
     "text": [
      "\u001b[01;34m.\u001b[00m\n",
      "├── \u001b[01;34mMachineLearningExamples\u001b[00m\n",
      "│   ├── ImageClassificationKeras.ipynb\n",
      "│   ├── NumbersRandomForestsSklearn.ipynb\n",
      "│   └── TextClassificationPyTorch.ipynb\n",
      "├── Quickstart.ipynb\n",
      "├── README.md\n",
      "└── \u001b[01;34mimages\u001b[00m\n",
      "    └── jupyter.png\n",
      "\n",
      "2 directories, 6 files\n"
     ]
    }
   ],
   "source": [
    "! tree "
   ]
  },
  {
   "cell_type": "markdown",
   "metadata": {},
   "source": [
    "Volumes or Data disks specified in the notebook server configuration are mounted as shown below."
   ]
  },
  {
   "cell_type": "code",
   "execution_count": 2,
   "metadata": {
    "ExecuteTime": {
     "end_time": "2020-04-06T15:35:33.803690Z",
     "start_time": "2020-04-06T15:35:33.653674Z"
    }
   },
   "outputs": [
    {
     "name": "stdout",
     "output_type": "stream",
     "text": [
      "Filesystem                                                                                   Size   Used  Avail Capacity   iused      ifree %iused  Mounted on\n",
      "/dev/disk1s5                                                                                466Gi   10Gi   67Gi    14%    484111 4882992809    0%   /\n",
      "devfs                                                                                       202Ki  202Ki    0Bi   100%       706          0  100%   /dev\n",
      "/dev/disk1s1                                                                                466Gi  384Gi   67Gi    86%   2483745 4880993175    0%   /System/Volumes/Data\n",
      "/dev/disk1s4                                                                                466Gi  4.0Gi   67Gi     6%         7 4883476913    0%   /private/var/vm\n",
      "map auto_home                                                                                 0Bi    0Bi    0Bi   100%         0          0  100%   /System/Volumes/Data/home\n",
      "/Users/christian/Library/PreferencePanes/MenuMeters.prefPane                                466Gi  388Gi   66Gi    86%   2477408 4880999512    0%   /private/var/folders/xv/g0hf53hn1d99by7qlg83_2vr0000gn/T/AppTranslocation/D19D3366-4A8C-4204-851A-DD37D2BA2D42\n",
      "//Christian%20Ritter@Christian%60s%20AirPort%20Time%20Capsule._afpovertcp._tcp.local./Data  1.8Ti  906Gi  955Gi    49% 237408249  250446097   49%   /Volumes/.timemachine/Christian's AirPort Time Capsule._afpovertcp._tcp.local./0BF364A3-4735-4EB7-A295-33E1FB913253/Data\n",
      "/dev/disk2s2                                                                                1.7Ti  904Gi  863Gi    52%  12659200 4282308079    0%   /Volumes/Time Machine Backups\n",
      "/dev/disk1s3                                                                                466Gi  504Mi   67Gi     1%        38 4883476882    0%   /Volumes/Recovery\n"
     ]
    }
   ],
   "source": [
    "! df -h"
   ]
  },
  {
   "cell_type": "markdown",
   "metadata": {},
   "source": [
    "## Compute Resources\n",
    "\n",
    "Compute resources are available as in regular virtual machines. Monitoring can be done, for example via `htop` in a terminal.\n"
   ]
  },
  {
   "cell_type": "markdown",
   "metadata": {},
   "source": [
    "## GUI Setup\n",
    "\n",
    "The user can switch between Jupyter lab and Jupyter notebooks via \n",
    "\n",
    "* Jupyter Notebook: https://kubeflow.covid.cloud.statcan.ca/notebook/[user]/test/lab\n",
    "* Jupyter Lab: https://kubeflow.covid.cloud.statcan.ca/notebook/[user]/test/tree\n",
    "\n",
    "Another option is to enable a browser for extensions as shown below\n",
    "\n",
    "![test](images/jupyter.png)\n"
   ]
  },
  {
   "cell_type": "markdown",
   "metadata": {},
   "source": [
    "### Visualization via matplotlib is shown below"
   ]
  },
  {
   "cell_type": "code",
   "execution_count": null,
   "metadata": {
    "ExecuteTime": {
     "end_time": "2020-04-06T16:12:06.108897Z",
     "start_time": "2020-04-06T16:12:01.503895Z"
    }
   },
   "outputs": [],
   "source": [
    "import matplotlib.pyplot as plt\n",
    "%matplotlib inline"
   ]
  },
  {
   "cell_type": "code",
   "execution_count": null,
   "metadata": {
    "ExecuteTime": {
     "end_time": "2020-04-06T16:11:57.043574Z",
     "start_time": "2020-04-06T16:11:57.030722Z"
    }
   },
   "outputs": [],
   "source": [
    "print('Have fun!')"
   ]
  },
  {
   "cell_type": "code",
   "execution_count": null,
   "metadata": {
    "ExecuteTime": {
     "end_time": "2020-04-06T16:12:53.009560Z",
     "start_time": "2020-04-06T16:12:52.420670Z"
    }
   },
   "outputs": [],
   "source": [
    "plt.plot([1,2],[3,2])"
   ]
  },
  {
   "cell_type": "markdown",
   "metadata": {},
   "source": [
    "For Jupyter functionalities please refer to the multitude of tutorials."
   ]
  },
  {
   "cell_type": "markdown",
   "metadata": {},
   "source": [
    "## Data Acquisition\n",
    "\n",
    "Please use `wget`, python tools or the upload button in the Jupyter menu to add data to Kubeflow."
   ]
  },
  {
   "cell_type": "markdown",
   "metadata": {},
   "source": [
    "This concludes this quickstart. Checkout other examples in this directory for more."
   ]
  },
  {
   "cell_type": "code",
   "execution_count": null,
   "metadata": {},
   "outputs": [],
   "source": []
  }
 ],
 "metadata": {
  "kernelspec": {
   "display_name": "Python 3",
   "language": "python",
   "name": "python3"
  },
  "language_info": {
   "codemirror_mode": {
    "name": "ipython",
    "version": 3
   },
   "file_extension": ".py",
   "mimetype": "text/x-python",
   "name": "python",
   "nbconvert_exporter": "python",
   "pygments_lexer": "ipython3",
   "version": "3.6.10"
  },
  "toc": {
   "base_numbering": 1,
   "nav_menu": {},
   "number_sections": true,
   "sideBar": true,
   "skip_h1_title": false,
   "title_cell": "Table of Contents",
   "title_sidebar": "Contents",
   "toc_cell": false,
   "toc_position": {},
   "toc_section_display": true,
   "toc_window_display": false
  }
 },
 "nbformat": 4,
 "nbformat_minor": 4
}
